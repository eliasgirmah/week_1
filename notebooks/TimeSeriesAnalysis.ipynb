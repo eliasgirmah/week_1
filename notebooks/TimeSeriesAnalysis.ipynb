{
 "cells": [
  {
   "cell_type": "code",
   "execution_count": 1,
   "id": "7e55f094-02ed-40f3-9f1a-57726a20a495",
   "metadata": {},
   "outputs": [
    {
     "data": {
      "text/html": [
       "<div>\n",
       "<style scoped>\n",
       "    .dataframe tbody tr th:only-of-type {\n",
       "        vertical-align: middle;\n",
       "    }\n",
       "\n",
       "    .dataframe tbody tr th {\n",
       "        vertical-align: top;\n",
       "    }\n",
       "\n",
       "    .dataframe thead th {\n",
       "        text-align: right;\n",
       "    }\n",
       "</style>\n",
       "<table border=\"1\" class=\"dataframe\">\n",
       "  <thead>\n",
       "    <tr style=\"text-align: right;\">\n",
       "      <th></th>\n",
       "      <th>date</th>\n",
       "      <th>headline</th>\n",
       "    </tr>\n",
       "  </thead>\n",
       "  <tbody>\n",
       "    <tr>\n",
       "      <th>0</th>\n",
       "      <td>2024-08-01 08:00:00</td>\n",
       "      <td>Stock hits new high</td>\n",
       "    </tr>\n",
       "    <tr>\n",
       "      <th>1</th>\n",
       "      <td>2024-08-02 12:30:00</td>\n",
       "      <td>Company reports earnings</td>\n",
       "    </tr>\n",
       "    <tr>\n",
       "      <th>2</th>\n",
       "      <td>2024-08-03 16:45:00</td>\n",
       "      <td>Market crashes</td>\n",
       "    </tr>\n",
       "  </tbody>\n",
       "</table>\n",
       "</div>"
      ],
      "text/plain": [
       "                 date                  headline\n",
       "0 2024-08-01 08:00:00       Stock hits new high\n",
       "1 2024-08-02 12:30:00  Company reports earnings\n",
       "2 2024-08-03 16:45:00            Market crashes"
      ]
     },
     "metadata": {},
     "output_type": "display_data"
    },
    {
     "name": "stdout",
     "output_type": "stream",
     "text": [
      "Publication Frequency:\n"
     ]
    },
    {
     "data": {
      "text/plain": [
       "date\n",
       "2024-08-01    1\n",
       "2024-08-02    1\n",
       "2024-08-03    1\n",
       "Freq: D, Name: count, dtype: int64"
      ]
     },
     "metadata": {},
     "output_type": "display_data"
    },
    {
     "name": "stdout",
     "output_type": "stream",
     "text": [
      "Time of Day Analysis:\n"
     ]
    },
    {
     "data": {
      "text/plain": [
       "time\n",
       "08:00:00    1\n",
       "12:30:00    1\n",
       "16:45:00    1\n",
       "Name: count, dtype: int64"
      ]
     },
     "metadata": {},
     "output_type": "display_data"
    },
    {
     "data": {
      "image/png": "[encoded data removed]",
      "text/plain": [
       "<Figure size 640x480 with 1 Axes>"
      ]
     },
     "metadata": {},
     "output_type": "display_data"
    }
   ],
   "source": [
    "# Time Series Analysis Notebook\n",
    "\n",
    "# Step 1: Import necessary libraries and modules\n",
    "import os\n",
    "import sys\n",
    "import pandas as pd\n",
    "\n",
    "# Adjust the path to include the src directory\n",
    "sys.path.insert(0, os.path.abspath(os.path.join(os.path.dirname(''), '..', 'src')))\n",
    "\n",
    "# Import the TimeSeriesAnalysis class\n",
    "from time_series_analysis import TimeSeriesAnalysis\n",
    "\n",
    "# Step 2: Load the data\n",
    "# Load sample data\n",
    "data = {\n",
    "    'date': ['2024-08-01 08:00:00', '2024-08-02 12:30:00', '2024-08-03 16:45:00'],\n",
    "    'headline': ['Stock hits new high', 'Company reports earnings', 'Market crashes']\n",
    "}\n",
    "df = pd.DataFrame(data)\n",
    "df['date'] = pd.to_datetime(df['date'])\n",
    "\n",
    "# Display the first few rows of the dataframe\n",
    "display(df.head())\n",
    "\n",
    "# Step 3: Initialize TimeSeriesAnalysis\n",
    "time_series_analysis = TimeSeriesAnalysis(df)\n",
    "\n",
    "# Step 4: Analyze publication frequency\n",
    "publication_frequency = time_series_analysis.publication_frequency()\n",
    "print(\"Publication Frequency:\")\n",
    "display(publication_frequency)\n",
    "\n",
    "# Step 5: Analyze time of day for publications\n",
    "time_of_day_analysis = time_series_analysis.time_of_day_analysis()\n",
    "print(\"Time of Day Analysis:\")\n",
    "display(time_of_day_analysis)\n",
    "\n",
    "# Step 6: Visualize the results\n",
    "# Plot publication frequency\n",
    "publication_frequency.plot(kind='bar', title='Publication Frequency Over Time')\n",
    "\n",
    "# Plot time of day analysis\n",
    "time_of_day_analysis.plot(kind='bar', title='Publication Time of Day Analysis')\n",
    "\n",
    "import matplotlib.pyplot as plt\n",
    "plt.show()\n"
   ]
  },
  {
   "cell_type": "code",
   "execution_count": null,
   "id": "98bc1be7-9dd6-4896-8bb7-a4e7225dd538",
   "metadata": {},
   "outputs": [],
   "source": []
  }
 ],
 "metadata": {
  "kernelspec": {
   "display_name": "Python 3 (ipykernel)",
   "language": "python",
   "name": "python3"
  },
  "language_info": {
   "codemirror_mode": {
    "name": "ipython",
    "version": 3
   },
   "file_extension": ".py",
   "mimetype": "text/x-python",
   "name": "python",
   "nbconvert_exporter": "python",
   "pygments_lexer": "ipython3",
   "version": "3.12.4"
  }
 },
 "nbformat": 4,
 "nbformat_minor": 5
}
