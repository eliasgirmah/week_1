{
 "cells": [
  {
   "cell_type": "code",
   "execution_count": 3,
   "metadata": {},
   "outputs": [
    {
     "ename": "SyntaxError",
     "evalue": "invalid syntax (3821526688.py, line 1)",
     "output_type": "error",
     "traceback": [
      "\u001b[1;36m  Cell \u001b[1;32mIn[3], line 1\u001b[1;36m\u001b[0m\n\u001b[1;33m    export PYTHONPATH=$(pwd)\u001b[0m\n\u001b[1;37m           ^\u001b[0m\n\u001b[1;31mSyntaxError\u001b[0m\u001b[1;31m:\u001b[0m invalid syntax\n"
     ]
    }
   ],
   "source": [
    "\n",
    "\n",
    "from src.data_loader import DataLoader\n",
    "from src.descriptive_stats import DescriptiveStats\n",
    "from src.text_analysis import TextAnalysis\n",
    "from src.time_series_analysis import TimeSeriesAnalysis\n",
    "\n",
    "# Load data\n",
    "data_loader = DataLoader('path_to_your_file.csv')\n",
    "df = data_loader.load_data()\n",
    "\n",
    "# Descriptive Statistics\n",
    "desc_stats = DescriptiveStats(df)\n",
    "print(desc_stats.headline_length_stats())\n",
    "print(desc_stats.articles_per_publisher())\n",
    "publication_trends = desc_stats.publication_date_trends()\n",
    "\n",
    "# Text Analysis\n",
    "text_analysis = TextAnalysis(df)\n",
    "df_with_sentiment = text_analysis.perform_sentiment_analysis()\n",
    "print(df_with_sentiment.head())\n",
    "\n",
    "# Time Series Analysis\n",
    "time_series_analysis = TimeSeriesAnalysis(df)\n",
    "time_series_analysis.plot_publication_trends()\n"
   ]
  }
 ],
 "metadata": {
  "kernelspec": {
   "display_name": "venv",
   "language": "python",
   "name": "python3"
  },
  "language_info": {
   "codemirror_mode": {
    "name": "ipython",
    "version": 3
   },
   "file_extension": ".py",
   "mimetype": "text/x-python",
   "name": "python",
   "nbconvert_exporter": "python",
   "pygments_lexer": "ipython3",
   "version": "3.12.4"
  }
 },
 "nbformat": 4,
 "nbformat_minor": 2
}
