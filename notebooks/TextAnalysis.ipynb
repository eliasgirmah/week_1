{
 "cells": [
  {
   "cell_type": "code",
   "execution_count": 1,
   "id": "3885932b-d80a-4e47-8935-99e1d3222de6",
   "metadata": {},
   "outputs": [
    {
     "name": "stdout",
     "output_type": "stream",
     "text": [
      "Data Loaded Successfully\n",
      "Text data cleaned successfully\n"
     ]
    },
    {
     "data": {
      "text/plain": [
       "0              stocks that hit 52 week highs on friday\n",
       "1           stocks that hit 52 week highs on wednesday\n",
       "2                        71 biggest movers from friday\n",
       "3         46 stocks moving in friday s mid day session\n",
       "4    b of a securities maintains neutral on agilent...\n",
       "Name: headline, dtype: object"
      ]
     },
     "metadata": {},
     "output_type": "display_data"
    },
    {
     "name": "stdout",
     "output_type": "stream",
     "text": [
      "Top 10 Common Bigrams in Headlines:\n",
      "52 week: 51006\n",
      "price target: 47274\n",
      "benzinga top: 44259\n",
      "are trading: 40497\n",
      "stocks moving: 39978\n",
      "moving in: 39743\n",
      "mid day: 37324\n",
      "shares of: 34841\n",
      "market update: 33101\n",
      "scheduled for: 32252\n"
     ]
    }
   ],
   "source": [
    "# Text Analysis Notebook\n",
    "\n",
    "# Step 1: Import necessary libraries and modules\n",
    "import os\n",
    "import sys\n",
    "import pandas as pd\n",
    "\n",
    "# Adjust the path to import from src directory\n",
    "sys.path.insert(0, os.path.abspath(os.path.join(os.path.dirname(''), '..', 'src')))\n",
    "\n",
    "# Import the TextAnalysis class\n",
    "from text_analysis import TextAnalysis\n",
    "\n",
    "# Step 2: Load the data\n",
    "base_path = os.path.abspath(os.path.join(os.path.dirname(''), '..', 'data'))\n",
    "data_path = os.path.join(base_path, 'raw_analyst_ratings.csv/raw_analyst_ratings.csv')\n",
    "\n",
    "# Check if the file exists\n",
    "if not os.path.exists(data_path):\n",
    "    print(f\"Data file not found: {data_path}\")\n",
    "else:\n",
    "    dataframe = pd.read_csv(data_path)\n",
    "    print(\"Data Loaded Successfully\")\n",
    "\n",
    "# Step 3: Initialize TextAnalysis and clean the text data\n",
    "text_analysis = TextAnalysis(dataframe)\n",
    "\n",
    "# Clean the 'headline' column in the dataframe\n",
    "cleaned_headlines = text_analysis.clean_text('headline')\n",
    "print(\"Text data cleaned successfully\")\n",
    "\n",
    "# Display the first few cleaned headlines\n",
    "display(cleaned_headlines.head())\n",
    "\n",
    "# Step 4: Extract and display common phrases (bigrams)\n",
    "# Get the top 10 common bigrams in the 'headline' column\n",
    "common_phrases = text_analysis.get_common_phrases('headline', ngram_range=(2, 2), n=10)\n",
    "\n",
    "# Print the top 10 common bigrams\n",
    "print(\"Top 10 Common Bigrams in Headlines:\")\n",
    "for phrase, count in common_phrases:\n",
    "    print(f\"{phrase}: {count}\")\n"
   ]
  },
  {
   "cell_type": "code",
   "execution_count": null,
   "id": "f3a7d1eb-002b-4f1d-a5b6-82d13012b60d",
   "metadata": {},
   "outputs": [],
   "source": []
  }
 ],
 "metadata": {
  "kernelspec": {
   "display_name": "Python 3 (ipykernel)",
   "language": "python",
   "name": "python3"
  },
  "language_info": {
   "codemirror_mode": {
    "name": "ipython",
    "version": 3
   },
   "file_extension": ".py",
   "mimetype": "text/x-python",
   "name": "python",
   "nbconvert_exporter": "python",
   "pygments_lexer": "ipython3",
   "version": "3.12.4"
  }
 },
 "nbformat": 4,
 "nbformat_minor": 5
}
